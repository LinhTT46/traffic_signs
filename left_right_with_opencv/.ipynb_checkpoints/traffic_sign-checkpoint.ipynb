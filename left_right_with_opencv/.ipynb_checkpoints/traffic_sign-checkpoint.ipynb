{
 "cells": [
  {
   "cell_type": "markdown",
   "metadata": {},
   "source": [
    "# Traffic Sign \n",
    "------"
   ]
  },
  {
   "cell_type": "code",
   "execution_count": 1,
   "metadata": {},
   "outputs": [],
   "source": [
    "# import library\n",
    "import cv2\n",
    "import numpy as np \n",
    "import matplotlib.pyplot as plt"
   ]
  },
  {
   "cell_type": "code",
   "execution_count": 2,
   "metadata": {},
   "outputs": [],
   "source": [
    "# the default sign\n",
    "sign = 0 \n",
    "\n",
    "# define the range of blue color (background of traffic signs)\n",
    "lowerBound = np.array([98, 109, 20])\n",
    "upperBound = np.array([112, 255, 255])\n",
    "\n",
    "# min_area for removing small independent objects\n",
    "min_area = 400"
   ]
  },
  {
   "cell_type": "code",
   "execution_count": 3,
   "metadata": {},
   "outputs": [],
   "source": [
    "#find contours of blue color in an image\n",
    "def find_contours(image):\n",
    "    kernelOpen = np.ones((5, 5))\n",
    "    kernelClose = np.ones((20, 20))\n",
    "\n",
    "    # convert BGR to HSV\n",
    "    imgHSV = cv2.cvtColor(image, cv2.COLOR_BGR2HSV)\n",
    "\n",
    "    # create the Mask\n",
    "    mask = cv2.inRange(imgHSV, lowerBound, upperBound)\n",
    "\n",
    "    # morphology to remove noise\n",
    "    maskOpen = cv2.morphologyEx(mask, cv2.MORPH_OPEN, kernelOpen)\n",
    "    maskClose = cv2.morphologyEx(maskOpen, cv2.MORPH_CLOSE, kernelClose)\n",
    "\n",
    "    maskFinal = maskClose\n",
    "    _, conts, _ = cv2.findContours(maskFinal.copy(), cv2.RETR_EXTERNAL, cv2.CHAIN_APPROX_NONE)\n",
    "    \n",
    "    cv2.imshow('mask', mask)\n",
    "    cv2.imshow('maskOpen', maskOpen)\n",
    "    cv2.imshow('maskClose', maskClose)\n",
    "    \n",
    "    return conts"
   ]
  },
  {
   "cell_type": "code",
   "execution_count": 4,
   "metadata": {},
   "outputs": [],
   "source": [
    "def get_traffix_sign(image, conts):\n",
    "    for i in range(len(conts)):\n",
    "        x, y, w, h = cv2.boundingRect(conts[i])\n",
    "        \n",
    "        # center point of 1/4 upper conner image\n",
    "        cX = int(w/2)+x\n",
    "        cY = int(h/4)+y\n",
    "        \n",
    "        if (cv2.contourArea(conts[i]) > min_area):\n",
    "            # draw the bounding box \n",
    "            cv2.rectangle(image, (x, y), (x+w, y+h), (0, 0, 255), 2)\n",
    "\n",
    "            # the upper left conner of rectangle\n",
    "            imgl = image[y:cY, x:cX]\n",
    "            conts1 = find_contours(imgl)\n",
    "\n",
    "            # the upper right conner of rectangle\n",
    "            imgr = image[y:cY, cX:x+w]\n",
    "            conts2 = find_contours(imgr)\n",
    "            \n",
    "            area_left = cv2.contourArea(conts1[i])\n",
    "            area_right = cv2.contourArea(conts2[i])\n",
    "            if area_left > area_right:  # right\n",
    "                sign = 1\n",
    "                txt = 'right'\n",
    "\n",
    "            elif area_left < area_right:  # left\n",
    "                sign = -1\n",
    "                txt = 'left'\n",
    "            cv2.putText(image,txt,(x,y-1),cv2.FONT_HERSHEY_SIMPLEX,0.5,(255,0,255),2,cv2.LINE_AA)\n",
    "                    \n",
    "    return sign, image"
   ]
  },
  {
   "cell_type": "code",
   "execution_count": 5,
   "metadata": {},
   "outputs": [],
   "source": [
    "def test_image(image):\n",
    "    height, width = image.shape[:2]\n",
    "    SKYLINE = int(height * 0.45)\n",
    "    roi = image[0:SKYLINE, 0:width]\n",
    "    conts = find_contours(roi)\n",
    "    sign, image = get_traffix_sign(image,conts)\n",
    "    plt.imshow(image)\n",
    "    plt.show"
   ]
  },
  {
   "cell_type": "code",
   "execution_count": 6,
   "metadata": {},
   "outputs": [
    {
     "ename": "NameError",
     "evalue": "global name 'plt' is not defined",
     "output_type": "error",
     "traceback": [
      "\u001b[0;31m---------------------------------------------------------------------------\u001b[0m",
      "\u001b[0;31mNameError\u001b[0m                                 Traceback (most recent call last)",
      "\u001b[0;32m<ipython-input-6-fd85c3772a4a>\u001b[0m in \u001b[0;36m<module>\u001b[0;34m()\u001b[0m\n\u001b[1;32m      1\u001b[0m \u001b[0mimg\u001b[0m \u001b[0;34m=\u001b[0m \u001b[0mcv2\u001b[0m\u001b[0;34m.\u001b[0m\u001b[0mimread\u001b[0m\u001b[0;34m(\u001b[0m\u001b[0;34m'083834_326478.png'\u001b[0m\u001b[0;34m)\u001b[0m\u001b[0;34m\u001b[0m\u001b[0m\n\u001b[0;32m----> 2\u001b[0;31m \u001b[0mtest_image\u001b[0m\u001b[0;34m(\u001b[0m\u001b[0mimg\u001b[0m\u001b[0;34m)\u001b[0m\u001b[0;34m\u001b[0m\u001b[0m\n\u001b[0m",
      "\u001b[0;32m<ipython-input-5-19960ef76f1b>\u001b[0m in \u001b[0;36mtest_image\u001b[0;34m(image)\u001b[0m\n\u001b[1;32m      5\u001b[0m     \u001b[0mconts\u001b[0m \u001b[0;34m=\u001b[0m \u001b[0mfind_contours\u001b[0m\u001b[0;34m(\u001b[0m\u001b[0mroi\u001b[0m\u001b[0;34m)\u001b[0m\u001b[0;34m\u001b[0m\u001b[0m\n\u001b[1;32m      6\u001b[0m     \u001b[0msign\u001b[0m\u001b[0;34m,\u001b[0m \u001b[0mimage\u001b[0m \u001b[0;34m=\u001b[0m \u001b[0mget_traffix_sign\u001b[0m\u001b[0;34m(\u001b[0m\u001b[0mimage\u001b[0m\u001b[0;34m,\u001b[0m\u001b[0mconts\u001b[0m\u001b[0;34m)\u001b[0m\u001b[0;34m\u001b[0m\u001b[0m\n\u001b[0;32m----> 7\u001b[0;31m     \u001b[0mplt\u001b[0m\u001b[0;34m.\u001b[0m\u001b[0mimshow\u001b[0m\u001b[0;34m(\u001b[0m\u001b[0mimage\u001b[0m\u001b[0;34m)\u001b[0m\u001b[0;34m\u001b[0m\u001b[0m\n\u001b[0m\u001b[1;32m      8\u001b[0m     \u001b[0mplt\u001b[0m\u001b[0;34m.\u001b[0m\u001b[0mshow\u001b[0m\u001b[0;34m\u001b[0m\u001b[0m\n",
      "\u001b[0;31mNameError\u001b[0m: global name 'plt' is not defined"
     ]
    }
   ],
   "source": [
    "img = cv2.imread('083834_326478.png')\n",
    "test_image(img)\n"
   ]
  },
  {
   "cell_type": "code",
   "execution_count": null,
   "metadata": {},
   "outputs": [],
   "source": [
    "img2 = cv2.imread('083856_214346.png')\n",
    "test_image(img2)"
   ]
  },
  {
   "cell_type": "code",
   "execution_count": null,
   "metadata": {},
   "outputs": [],
   "source": []
  }
 ],
 "metadata": {
  "kernelspec": {
   "display_name": "Python 2",
   "language": "python",
   "name": "python2"
  },
  "language_info": {
   "codemirror_mode": {
    "name": "ipython",
    "version": 2
   },
   "file_extension": ".py",
   "mimetype": "text/x-python",
   "name": "python",
   "nbconvert_exporter": "python",
   "pygments_lexer": "ipython2",
   "version": "2.7.15rc1"
  }
 },
 "nbformat": 4,
 "nbformat_minor": 2
}
